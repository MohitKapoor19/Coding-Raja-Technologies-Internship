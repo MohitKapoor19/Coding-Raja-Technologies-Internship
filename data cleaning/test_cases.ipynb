{
 "cells": [
  {
   "cell_type": "code",
   "execution_count": 1,
   "id": "2c42496b-8a4d-4a85-b504-8ffd30c4eac7",
   "metadata": {},
   "outputs": [
    {
     "name": "stdout",
     "output_type": "stream",
     "text": [
      "https://image.tmdb.org/t/p/w500//kyeqWdyUXW608qlYkRqosgbbJyK.jpg\n"
     ]
    }
   ],
   "source": []
  },
  {
   "cell_type": "code",
   "execution_count": 7,
   "id": "653ff83b-bc37-4ed0-a226-1027597a31d1",
   "metadata": {},
   "outputs": [
    {
     "name": "stdout",
     "output_type": "stream",
     "text": [
      "https://image.tmdb.org/t/p/w500//19ChghJMN72BG9mQeDK0D209whF.jpg\n"
     ]
    }
   ],
   "source": [
    "def fetch_poster(movie_id):\n",
    "    response = requests.get(\n",
    "        f'https://api.themoviedb.org/3/movie/{movie_id}?api_key=1f8372ab60a7747a9530ac4b0d4b91b8&language=en-US')\n",
    "    data = response.json()\n",
    "    return \"https://image.tmdb.org/t/p/w500/\" + data['poster_path']\n",
    "    \n",
    "test_movie_id = 25975\t # Example movie ID for Avatar\n",
    "print(fetch_poster(test_movie_id))\n"
   ]
  },
  {
   "cell_type": "code",
   "execution_count": 11,
   "id": "a075f9b2-038a-44f1-b2a1-292cc8e14065",
   "metadata": {},
   "outputs": [
    {
     "name": "stdout",
     "output_type": "stream",
     "text": [
      "https://image.tmdb.org/t/p/w500//jGWpG4YhpQwVmjyHEGkxEkeRf0S.jpg\n"
     ]
    }
   ],
   "source": [
    "def fetch_poster(movie_id):\n",
    "    url = \"https://api.themoviedb.org/3/movie/{}?api_key=8265bd1679663a7ea12ac168da84d2e8&language=en-US\".format(movie_id)\n",
    "    data = requests.get(url)\n",
    "    data = data.json()\n",
    "    poster_path = data['poster_path']\n",
    "    full_path = \"https://image.tmdb.org/t/p/w500/\" + poster_path\n",
    "    return full_path\n",
    "\n",
    "test_movie_id = 285\t # Example movie ID for Avatar\n",
    "print(fetch_poster(test_movie_id))"
   ]
  },
  {
   "cell_type": "code",
   "execution_count": null,
   "id": "506e88cf-a8c1-4d38-a207-a74c7faa65cf",
   "metadata": {},
   "outputs": [],
   "source": []
  }
 ],
 "metadata": {
  "kernelspec": {
   "display_name": "Python 3 (ipykernel)",
   "language": "python",
   "name": "python3"
  },
  "language_info": {
   "codemirror_mode": {
    "name": "ipython",
    "version": 3
   },
   "file_extension": ".py",
   "mimetype": "text/x-python",
   "name": "python",
   "nbconvert_exporter": "python",
   "pygments_lexer": "ipython3",
   "version": "3.12.4"
  }
 },
 "nbformat": 4,
 "nbformat_minor": 5
}
